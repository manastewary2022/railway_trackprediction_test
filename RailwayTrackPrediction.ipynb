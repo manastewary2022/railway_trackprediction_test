{
  "nbformat": 4,
  "nbformat_minor": 0,
  "metadata": {
    "colab": {
      "provenance": [],
      "mount_file_id": "1udmC-9k0674KWAxiBU9uMkVluyAy6qb8",
      "authorship_tag": "ABX9TyMPLeqKtCwKM986c8mLtxjz",
      "include_colab_link": true
    },
    "kernelspec": {
      "name": "python3",
      "display_name": "Python 3"
    },
    "language_info": {
      "name": "python"
    }
  },
  "cells": [
    {
      "cell_type": "markdown",
      "metadata": {
        "id": "view-in-github",
        "colab_type": "text"
      },
      "source": [
        "<a href=\"https://colab.research.google.com/github/manastewary2022/railway_trackprediction_test/blob/ReactMain/RailwayTrackPrediction.ipynb\" target=\"_parent\"><img src=\"https://colab.research.google.com/assets/colab-badge.svg\" alt=\"Open In Colab\"/></a>"
      ]
    },
    {
      "cell_type": "code",
      "execution_count": null,
      "metadata": {
        "id": "AXsh2vCRxkwp"
      },
      "outputs": [],
      "source": []
    },
    {
      "cell_type": "code",
      "source": [
        "from google.colab import drive\n",
        "drive.mount('/content/drive')\n"
      ],
      "metadata": {
        "colab": {
          "base_uri": "https://localhost:8080/"
        },
        "id": "-tM0Mfn7LfrP",
        "outputId": "a937df44-2c74-437e-e8c6-b4b0cb0a990e"
      },
      "execution_count": null,
      "outputs": [
        {
          "output_type": "stream",
          "name": "stdout",
          "text": [
            "Drive already mounted at /content/drive; to attempt to forcibly remount, call drive.mount(\"/content/drive\", force_remount=True).\n"
          ]
        }
      ]
    },
    {
      "cell_type": "code",
      "source": [
        "import base64\n",
        "import requests\n",
        "import csv\n",
        "\n",
        "# Function to convert image to base64\n",
        "def image_to_base64(file_path):\n",
        "    with open(file_path, \"rb\") as img_file:\n",
        "        return base64.b64encode(img_file.read()).decode('utf-8')\n",
        "\n",
        "# List of image file paths to test\n",
        "image_files = [\n",
        "    r'/content/drive/MyDrive/RailWayTrackImages/Defective/IMG_20201114_100159.jpg',\n",
        "    r'/content/drive/MyDrive/RailWayTrackImages/Defective/IMG_20201114_100209.jpg',\n",
        "    r'/content/drive/MyDrive/RailWayTrackImages/Non defective/IMG_20201114_101633.jpg'\n",
        "]\n",
        "\n",
        "# Convert each image to base64 and store them in a list\n",
        "base64_images = [image_to_base64(image_file) for image_file in image_files]\n",
        "\n",
        "# Send a POST request with Base64 images in the request body as JSON\n",
        "url = 'https://api-route-hackathon2024-innovativethought-ai.rhh24cluster-dal10-b3c-32-b7fa127339e34d1cc8d1b3e2be243d89-0000.us-south.containers.appdomain.cloud/multipredict'\n",
        "data = {'images': base64_images}\n",
        "\n",
        "try:\n",
        "    response = requests.post(url, json=data)\n",
        "    response.raise_for_status()  # Check for HTTP errors\n",
        "    # Print the response\n",
        "    print(response.json())\n",
        "\n",
        "    # Save response to CSV\n",
        "    def save_response_to_csv(response_data, csv_file_path):\n",
        "        with open(csv_file_path, mode='w', newline='') as file:\n",
        "            writer = csv.writer(file)\n",
        "            # Assuming response_data is a list of dictionaries\n",
        "            if isinstance(response_data, list) and len(response_data) > 0:\n",
        "                # Write headers\n",
        "                writer.writerow(response_data[0].keys())\n",
        "                # Write data\n",
        "                for entry in response_data:\n",
        "                    writer.writerow(entry.values())\n",
        "\n",
        "    # Example usage\n",
        "    csv_file_path = 'prediction_results.csv'\n",
        "    save_response_to_csv(response.json(), csv_file_path)\n",
        "\n",
        "except requests.exceptions.RequestException as e:\n",
        "    print(f\"Error: {e}\")\n"
      ],
      "metadata": {
        "colab": {
          "base_uri": "https://localhost:8080/"
        },
        "id": "5eN1PSlfMWuI",
        "outputId": "1cd08f48-7e6c-4bd7-d587-caa92be5a0f3"
      },
      "execution_count": null,
      "outputs": [
        {
          "output_type": "stream",
          "name": "stdout",
          "text": [
            "[{'image_index': 0, 'predicted_class': 'fault', 'probability': 0.00027770339511334896}, {'image_index': 1, 'predicted_class': 'fault', 'probability': 0.000279062835033983}, {'image_index': 2, 'predicted_class': 'fault', 'probability': 0.00029044129769317806}]\n"
          ]
        }
      ]
    },
    {
      "cell_type": "code",
      "source": [],
      "metadata": {
        "colab": {
          "base_uri": "https://localhost:8080/"
        },
        "id": "DXHwob5SkpZq",
        "outputId": "c50fee7e-1545-4227-e6c0-b9a5f35b788e"
      },
      "execution_count": null,
      "outputs": [
        {
          "output_type": "stream",
          "name": "stdout",
          "text": [
            "Requirement already satisfied: psycopg2 in /usr/local/lib/python3.10/dist-packages (2.9.9)\n"
          ]
        }
      ]
    },
    {
      "cell_type": "code",
      "source": [
        "pip install dash pandas plotly\n"
      ],
      "metadata": {
        "id": "kn7_B6-tLlet",
        "colab": {
          "base_uri": "https://localhost:8080/"
        },
        "outputId": "69fa5432-ed83-4f4e-835b-d0c4225fe8f6"
      },
      "execution_count": null,
      "outputs": [
        {
          "output_type": "stream",
          "name": "stdout",
          "text": [
            "Requirement already satisfied: dash in /usr/local/lib/python3.10/dist-packages (2.18.1)\n",
            "Requirement already satisfied: pandas in /usr/local/lib/python3.10/dist-packages (2.1.4)\n",
            "Requirement already satisfied: plotly in /usr/local/lib/python3.10/dist-packages (5.15.0)\n",
            "Requirement already satisfied: Flask<3.1,>=1.0.4 in /usr/local/lib/python3.10/dist-packages (from dash) (2.2.5)\n",
            "Requirement already satisfied: Werkzeug<3.1 in /usr/local/lib/python3.10/dist-packages (from dash) (3.0.4)\n",
            "Requirement already satisfied: dash-html-components==2.0.0 in /usr/local/lib/python3.10/dist-packages (from dash) (2.0.0)\n",
            "Requirement already satisfied: dash-core-components==2.0.0 in /usr/local/lib/python3.10/dist-packages (from dash) (2.0.0)\n",
            "Requirement already satisfied: dash-table==5.0.0 in /usr/local/lib/python3.10/dist-packages (from dash) (5.0.0)\n",
            "Requirement already satisfied: importlib-metadata in /usr/local/lib/python3.10/dist-packages (from dash) (8.5.0)\n",
            "Requirement already satisfied: typing-extensions>=4.1.1 in /usr/local/lib/python3.10/dist-packages (from dash) (4.12.2)\n",
            "Requirement already satisfied: requests in /usr/local/lib/python3.10/dist-packages (from dash) (2.32.3)\n",
            "Requirement already satisfied: retrying in /usr/local/lib/python3.10/dist-packages (from dash) (1.3.4)\n",
            "Requirement already satisfied: nest-asyncio in /usr/local/lib/python3.10/dist-packages (from dash) (1.6.0)\n",
            "Requirement already satisfied: setuptools in /usr/local/lib/python3.10/dist-packages (from dash) (71.0.4)\n",
            "Requirement already satisfied: numpy<2,>=1.22.4 in /usr/local/lib/python3.10/dist-packages (from pandas) (1.26.4)\n",
            "Requirement already satisfied: python-dateutil>=2.8.2 in /usr/local/lib/python3.10/dist-packages (from pandas) (2.8.2)\n",
            "Requirement already satisfied: pytz>=2020.1 in /usr/local/lib/python3.10/dist-packages (from pandas) (2024.2)\n",
            "Requirement already satisfied: tzdata>=2022.1 in /usr/local/lib/python3.10/dist-packages (from pandas) (2024.1)\n",
            "Requirement already satisfied: tenacity>=6.2.0 in /usr/local/lib/python3.10/dist-packages (from plotly) (9.0.0)\n",
            "Requirement already satisfied: packaging in /usr/local/lib/python3.10/dist-packages (from plotly) (24.1)\n",
            "Requirement already satisfied: Jinja2>=3.0 in /usr/local/lib/python3.10/dist-packages (from Flask<3.1,>=1.0.4->dash) (3.1.4)\n",
            "Requirement already satisfied: itsdangerous>=2.0 in /usr/local/lib/python3.10/dist-packages (from Flask<3.1,>=1.0.4->dash) (2.2.0)\n",
            "Requirement already satisfied: click>=8.0 in /usr/local/lib/python3.10/dist-packages (from Flask<3.1,>=1.0.4->dash) (8.1.7)\n",
            "Requirement already satisfied: six>=1.5 in /usr/local/lib/python3.10/dist-packages (from python-dateutil>=2.8.2->pandas) (1.16.0)\n",
            "Requirement already satisfied: MarkupSafe>=2.1.1 in /usr/local/lib/python3.10/dist-packages (from Werkzeug<3.1->dash) (2.1.5)\n",
            "Requirement already satisfied: zipp>=3.20 in /usr/local/lib/python3.10/dist-packages (from importlib-metadata->dash) (3.20.2)\n",
            "Requirement already satisfied: charset-normalizer<4,>=2 in /usr/local/lib/python3.10/dist-packages (from requests->dash) (3.3.2)\n",
            "Requirement already satisfied: idna<4,>=2.5 in /usr/local/lib/python3.10/dist-packages (from requests->dash) (3.10)\n",
            "Requirement already satisfied: urllib3<3,>=1.21.1 in /usr/local/lib/python3.10/dist-packages (from requests->dash) (2.0.7)\n",
            "Requirement already satisfied: certifi>=2017.4.17 in /usr/local/lib/python3.10/dist-packages (from requests->dash) (2024.8.30)\n"
          ]
        }
      ]
    },
    {
      "cell_type": "code",
      "source": [
        "import dash\n",
        "from dash import dcc, html\n",
        "import dash.dependencies as dd\n",
        "import pandas as pd\n",
        "import plotly.express as px\n",
        "\n",
        "# Load the CSV file into a pandas DataFrame\n",
        "df = pd.read_csv('/content/drive/MyDrive/RailWayTrackImages/prediction_results.csv')\n",
        "\n",
        "# Initialize the Dash app\n",
        "app = dash.Dash(__name__)\n",
        "\n",
        "# Layout of the dashboard\n",
        "app.layout = html.Div([\n",
        "    html.H1(\"Fault Prediction Dashboard\", style={'textAlign': 'center'}),\n",
        "\n",
        "    dcc.Dropdown(\n",
        "        id='severity-filter',\n",
        "        options=[{'label': severity, 'value': severity} for severity in df['severity'].unique()],\n",
        "        value='High',  # Default value\n",
        "        clearable=False,\n",
        "        style={'width': '50%', 'margin': '0 auto'}\n",
        "    ),\n",
        "\n",
        "    dcc.Graph(id='fault-severity-pie-chart'),\n",
        "\n",
        "    dcc.Graph(id='fault-prediction-bar-chart')\n",
        "])\n",
        "\n",
        "# Callback for updating the pie chart based on the severity filter\n",
        "@app.callback(\n",
        "    dd.Output('fault-severity-pie-chart', 'figure'),\n",
        "    [dd.Input('severity-filter', 'value')]\n",
        ")\n",
        "def update_pie_chart(severity):\n",
        "    filtered_df = df[df['severity'] == severity]\n",
        "    pie_chart = px.pie(filtered_df, names='prediction', title=f\"Fault Predictions with Severity: {severity}\")\n",
        "    return pie_chart\n",
        "\n",
        "# Callback for the bar chart to display fault prediction percentage by zone\n",
        "@app.callback(\n",
        "    dd.Output('fault-prediction-bar-chart', 'figure'),\n",
        "    [dd.Input('severity-filter', 'value')]\n",
        ")\n",
        "def update_bar_chart(severity):\n",
        "    filtered_df = df[df['severity'] == severity]\n",
        "    bar_chart = px.bar(\n",
        "        filtered_df,\n",
        "        x='zone',\n",
        "        y='fault_prediction_percentage',\n",
        "        color='prediction',\n",
        "        title=f\"Fault Prediction Percentage by Zone for Severity: {severity}\",\n",
        "        labels={'fault_prediction_percentage': 'Fault Prediction %', 'zone': 'Zone'}\n",
        "    )\n",
        "    return bar_chart\n",
        "\n",
        "# Run the Dash app\n",
        "if __name__ == '__main__':\n",
        "    app.run_server(debug=True)\n"
      ],
      "metadata": {
        "colab": {
          "base_uri": "https://localhost:8080/",
          "height": 691
        },
        "id": "fRmlhuO5bRcB",
        "outputId": "2c2ab89e-63be-402a-fd1f-7ccec1ffc02c"
      },
      "execution_count": null,
      "outputs": [
        {
          "output_type": "display_data",
          "data": {
            "text/plain": [
              "<IPython.core.display.Javascript object>"
            ],
            "application/javascript": [
              "(async (port, path, width, height, cache, element) => {\n",
              "    if (!google.colab.kernel.accessAllowed && !cache) {\n",
              "      return;\n",
              "    }\n",
              "    element.appendChild(document.createTextNode(''));\n",
              "    const url = await google.colab.kernel.proxyPort(port, {cache});\n",
              "    const iframe = document.createElement('iframe');\n",
              "    iframe.src = new URL(path, url).toString();\n",
              "    iframe.height = height;\n",
              "    iframe.width = width;\n",
              "    iframe.style.border = 0;\n",
              "    iframe.allow = [\n",
              "        'accelerometer',\n",
              "        'autoplay',\n",
              "        'camera',\n",
              "        'clipboard-read',\n",
              "        'clipboard-write',\n",
              "        'gyroscope',\n",
              "        'magnetometer',\n",
              "        'microphone',\n",
              "        'serial',\n",
              "        'usb',\n",
              "        'xr-spatial-tracking',\n",
              "    ].join('; ');\n",
              "    element.appendChild(iframe);\n",
              "  })(8050, \"/\", \"100%\", 650, false, window.element)"
            ]
          },
          "metadata": {}
        }
      ]
    }
  ]
}